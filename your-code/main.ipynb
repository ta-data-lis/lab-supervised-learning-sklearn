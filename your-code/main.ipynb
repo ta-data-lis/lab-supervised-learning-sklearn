{
 "cells": [
  {
   "cell_type": "markdown",
   "metadata": {},
   "source": [
    "# Before your start:\n",
    "- Read the README.md file\n",
    "- Comment as much as you can and use the resources in the README.md file\n",
    "- Happy learning!"
   ]
  },
  {
   "cell_type": "code",
   "execution_count": 63,
   "metadata": {},
   "outputs": [],
   "source": [
    "# Import your libraries:\n",
    "import pandas as pd\n",
    "import numpy as np\n",
    "import matplotlib.pyplot as plt\n",
    "import seaborn as sns\n",
    "from sklearn.linear_model import LinearRegression\n",
    "from sklearn.datasets import load_diabetes\n",
    "from sklearn.preprocessing import PolynomialFeatures, StandardScaler\n",
    "from sklearn.model_selection import train_test_split\n",
    "from sklearn.metrics import r2_score"
   ]
  },
  {
   "cell_type": "markdown",
   "metadata": {},
   "source": [
    "# Challenge 1 - Explore the Scikit-Learn Datasets\n",
    "\n",
    "Before starting to work on our own datasets, let's first explore the datasets that are included in this Python library. These datasets have been cleaned and formatted for use in ML algorithms."
   ]
  },
  {
   "cell_type": "markdown",
   "metadata": {},
   "source": [
    "First, we will load the diabetes dataset. Do this in the cell below by importing the datasets and then loading the dataset  to the `diabetes` variable using the `load_diabetes()` function ([documentation](https://scikit-learn.org/stable/modules/generated/sklearn.datasets.load_diabetes.html))."
   ]
  },
  {
   "cell_type": "code",
   "execution_count": 2,
   "metadata": {},
   "outputs": [],
   "source": [
    "# Your code here:\n",
    "diabetes = load_diabetes()"
   ]
  },
  {
   "cell_type": "markdown",
   "metadata": {},
   "source": [
    "Let's explore this variable by looking at the different attributes (keys) of `diabetes`. Note that the `load_diabetes` function does not return dataframes. It returns you a Python dictionary."
   ]
  },
  {
   "cell_type": "code",
   "execution_count": 3,
   "metadata": {},
   "outputs": [
    {
     "name": "stdout",
     "output_type": "stream",
     "text": [
      "dict_keys(['data', 'target', 'DESCR', 'feature_names', 'data_filename', 'target_filename'])\n"
     ]
    }
   ],
   "source": [
    "print(diabetes.keys())"
   ]
  },
  {
   "cell_type": "markdown",
   "metadata": {},
   "source": [
    "#### The next step is to read the description of the dataset. \n",
    "\n",
    "Print the description in the cell below using the `DESCR` attribute of the `diabetes` variable. Read the data description carefully to fully understand what each column represents.\n",
    "\n",
    "*Hint: If your output is ill-formatted by displaying linebreaks as `\\n`, it means you are not using the `print` function.*"
   ]
  },
  {
   "cell_type": "code",
   "execution_count": 4,
   "metadata": {
    "scrolled": false
   },
   "outputs": [
    {
     "name": "stdout",
     "output_type": "stream",
     "text": [
      ".. _diabetes_dataset:\n",
      "\n",
      "Diabetes dataset\n",
      "----------------\n",
      "\n",
      "Ten baseline variables, age, sex, body mass index, average blood\n",
      "pressure, and six blood serum measurements were obtained for each of n =\n",
      "442 diabetes patients, as well as the response of interest, a\n",
      "quantitative measure of disease progression one year after baseline.\n",
      "\n",
      "**Data Set Characteristics:**\n",
      "\n",
      "  :Number of Instances: 442\n",
      "\n",
      "  :Number of Attributes: First 10 columns are numeric predictive values\n",
      "\n",
      "  :Target: Column 11 is a quantitative measure of disease progression one year after baseline\n",
      "\n",
      "  :Attribute Information:\n",
      "      - Age\n",
      "      - Sex\n",
      "      - Body mass index\n",
      "      - Average blood pressure\n",
      "      - S1\n",
      "      - S2\n",
      "      - S3\n",
      "      - S4\n",
      "      - S5\n",
      "      - S6\n",
      "\n",
      "Note: Each of these 10 feature variables have been mean centered and scaled by the standard deviation times `n_samples` (i.e. the sum of squares of each column totals 1).\n",
      "\n",
      "Source URL:\n",
      "https://www4.stat.ncsu.edu/~boos/var.select/diabetes.html\n",
      "\n",
      "For more information see:\n",
      "Bradley Efron, Trevor Hastie, Iain Johnstone and Robert Tibshirani (2004) \"Least Angle Regression,\" Annals of Statistics (with discussion), 407-499.\n",
      "(https://web.stanford.edu/~hastie/Papers/LARS/LeastAngle_2002.pdf)\n"
     ]
    }
   ],
   "source": [
    "print(diabetes.DESCR) "
   ]
  },
  {
   "cell_type": "markdown",
   "metadata": {},
   "source": [
    "#### Based on the data description, answer the following questions:\n",
    "\n",
    "1. How many attributes are there in the data? What do they mean?\n",
    "\n",
    "1. What is the relation between `diabetes['data']` and `diabetes['target']`?\n",
    "\n",
    "1. How many records are there in the data?"
   ]
  },
  {
   "cell_type": "code",
   "execution_count": null,
   "metadata": {},
   "outputs": [],
   "source": [
    "# Enter your answer here:\n",
    "'''\n",
    "There are 10 attributes which are the predictive values.\n",
    "The target is a quantitative measure of disease progression one year after baseline.\n",
    "There are 442 records.'''"
   ]
  },
  {
   "cell_type": "markdown",
   "metadata": {},
   "source": [
    "#### Now explore what are contained in the *data* portion as well as the *target* portion of `diabetes`. \n",
    "\n",
    "Scikit-learn typically takes in 2D numpy arrays as input (though pandas dataframes are also accepted). Inspect the shape of `data` and `target`. Confirm they are consistent with the data description."
   ]
  },
  {
   "cell_type": "code",
   "execution_count": 6,
   "metadata": {},
   "outputs": [
    {
     "name": "stdout",
     "output_type": "stream",
     "text": [
      "(442, 10)\n",
      "(442,)\n"
     ]
    }
   ],
   "source": [
    "# Your code here:\n",
    "print(diabetes['data'].shape)\n",
    "print(diabetes['target'].shape)\n",
    "#these are consistent with the description "
   ]
  },
  {
   "cell_type": "markdown",
   "metadata": {},
   "source": [
    "# Challenge 2 - Perform Supervised Learning on the Dataset"
   ]
  },
  {
   "cell_type": "markdown",
   "metadata": {},
   "source": [
    "The data have already been split to predictor (*data*) and response (*target*) variables. Given this information, we'll apply what we have previously learned about linear regression and apply the algorithm to the diabetes dataset.\n",
    "\n",
    "#### Let's briefly revisit the linear regression formula:\n",
    "\n",
    "```\n",
    "y = β0 + β1X1 + β2X2 + ... + βnXn + ϵ\n",
    "```\n",
    "\n",
    "...where:\n",
    "\n",
    "- X1-Xn: data \n",
    "- β0: intercept \n",
    "- β1-βn: coefficients \n",
    "- ϵ: error (cannot explained by model)\n",
    "- y: target\n",
    "\n",
    "Also take a look at the `sklearn.linear_model.LinearRegression` [documentation](https://scikit-learn.org/stable/modules/generated/sklearn.linear_model.LinearRegression.html).\n",
    "\n",
    "#### In the cell below, import the `linear_model` class from `sklearn`. "
   ]
  },
  {
   "cell_type": "code",
   "execution_count": 7,
   "metadata": {},
   "outputs": [],
   "source": [
    "# Your code here:\n",
    "#done above"
   ]
  },
  {
   "cell_type": "markdown",
   "metadata": {},
   "source": [
    "#### Create a new instance of the linear regression model and assign the new instance to the variable `diabetes_model`."
   ]
  },
  {
   "cell_type": "code",
   "execution_count": 8,
   "metadata": {},
   "outputs": [],
   "source": [
    "X = diabetes.data\n",
    "y = diabetes.target"
   ]
  },
  {
   "cell_type": "code",
   "execution_count": 72,
   "metadata": {},
   "outputs": [],
   "source": [
    "# Create linear regression\n",
    "regr = LinearRegression()\n",
    "\n",
    "# Fit the linear regression\n",
    "#diabetes_model = regr.fit(X_std, y)\n",
    "diabetes_model = regr.fit(X, y)"
   ]
  },
  {
   "cell_type": "markdown",
   "metadata": {},
   "source": [
    "#### Next, let's split the training and test data.\n",
    "\n",
    "Define `diabetes_data_train`, `diabetes_target_train`, `diabetes_data_test`, and `diabetes_target_test`. Use the last 20 records for the test data and the rest for the training data."
   ]
  },
  {
   "cell_type": "code",
   "execution_count": 73,
   "metadata": {},
   "outputs": [],
   "source": [
    "# Your code here:\n",
    "diabetes_data_train, diabetes_data_test, diabetes_target_train, diabetes_target_test = train_test_split(X, y, test_size=0.04, random_state = 29)"
   ]
  },
  {
   "cell_type": "markdown",
   "metadata": {},
   "source": [
    "Fit the training data and target to `diabetes_model`. Print the *intercept* and *coefficients* of the model."
   ]
  },
  {
   "cell_type": "code",
   "execution_count": 12,
   "metadata": {},
   "outputs": [
    {
     "name": "stdout",
     "output_type": "stream",
     "text": [
      "LinearRegression(copy_X=True, fit_intercept=True, n_jobs=None, normalize=False)\n"
     ]
    }
   ],
   "source": [
    "# Your code here:\n",
    "diabetes_model = regr.fit(diabetes_data_train, diabetes_target_train)\n",
    "print(diabetes_model)"
   ]
  },
  {
   "cell_type": "code",
   "execution_count": 45,
   "metadata": {},
   "outputs": [
    {
     "name": "stdout",
     "output_type": "stream",
     "text": [
      "coefficient of determination: 0.4915224762727923\n"
     ]
    }
   ],
   "source": [
    "r_sq = diabetes_model.score(diabetes_data_train, diabetes_target_train)\n",
    "print('coefficient of determination:', r_sq)"
   ]
  },
  {
   "cell_type": "code",
   "execution_count": 42,
   "metadata": {},
   "outputs": [
    {
     "name": "stdout",
     "output_type": "stream",
     "text": [
      "intercept: 149.39397298210994\n",
      "slope: [ -13.47779622 -229.88656743  511.78413827  289.53922822 -276.36304965\n",
      "  -25.37966935 -145.39186537  116.45135228  478.85938699  195.206284  ]\n"
     ]
    }
   ],
   "source": [
    "print('intercept:', diabetes_model.intercept_)\n",
    "print('slope:', diabetes_model.coef_)"
   ]
  },
  {
   "cell_type": "markdown",
   "metadata": {},
   "source": [
    "#### Inspecting the results\n",
    "\n",
    "From the outputs you should have seen:\n",
    "\n",
    "- The intercept is a float number.\n",
    "- The coefficients are an array containing 10 float numbers.\n",
    "\n",
    "This is the linear regression model fitted to your training dataset.\n",
    "\n",
    "#### Using your fitted linear regression model, predict the *y* of `diabetes_data_test`."
   ]
  },
  {
   "cell_type": "code",
   "execution_count": 15,
   "metadata": {},
   "outputs": [
    {
     "name": "stdout",
     "output_type": "stream",
     "text": [
      "predicted response:\n",
      "[278.57282644 256.72620441 168.07677168  62.54846101  92.31672086\n",
      " 135.7851569   86.33141452 105.85105653 167.87804007  79.73423987\n",
      " 158.34778221 233.99371231  98.6990712  188.48561825 142.93408112\n",
      "  94.10160952  56.318362   114.20526821 186.40110229 113.82067242\n",
      " 153.94805086 227.81313936 219.71108903 112.48852497 180.16396791\n",
      " 109.32336353  72.15918504 242.83148839 108.86545479 108.02516891\n",
      " 225.33137326 115.29851576 157.52748342 206.10022818 145.61507882\n",
      " 104.89610499 239.42551357 121.99356336 152.9678759  152.10335452\n",
      " 159.09095543 285.40435463  67.97287871  71.30066762 183.09052157\n",
      "  84.91173786 158.14838858 163.47421373 119.4352672  226.60853851\n",
      " 115.13539264  98.40836738 187.91715167 137.64678457 154.96818038\n",
      " 115.20224106 264.05041086 260.70298697 107.60620887 182.64356766\n",
      " 141.36048359 113.09211113 196.08261758 257.98050072 159.01088929\n",
      " 142.07904586 268.50474448 233.74198964 139.63371211 156.8861737\n",
      " 108.33485796 203.56901199 120.03367389 185.68118183 137.14632741\n",
      "  96.63859596 142.83339521 116.85799706 227.38730238  42.55528458\n",
      " 120.8341453  249.79281911 103.76660566 172.30261821 127.34017807\n",
      " 196.23620757  75.08190679 155.49834669 152.84376917 109.21615285\n",
      " 184.1800074  120.41896937 157.75055975 138.86320537 154.10694825\n",
      "  99.09171047  77.96694785 164.2988002   84.71078805 129.33425276\n",
      " 189.91810163 147.00234988 125.14648781 194.65412932 240.2649964\n",
      "  83.47695053  63.96593075 164.66964292 143.29988735 129.22653681\n",
      " 213.75637617 181.31219382 216.47683951 167.13881857 216.21235416\n",
      " 148.61714698 161.788787   178.12529228 179.30026253 201.51843167\n",
      " 186.39230746  55.73180479  90.53169473 187.5163371  224.18375057\n",
      " 212.75174985 231.45610514 157.55806377  62.39953338 131.04706526\n",
      " 132.79848527 154.56267781 157.66220876 171.88305774  62.90676663\n",
      "  91.76135545 150.14730836  93.08943049 202.31378582  93.94846965\n",
      " 277.07223847 181.01383858 121.47083017  97.30599164 109.90534785\n",
      "  93.27719203  91.75931005 167.56726586 140.71129696  77.7035433\n",
      " 115.80372089 122.69744091  58.44796275 154.73584469 235.00488791\n",
      " 208.84319504 146.20274027 169.5471646  189.33973224 166.67122074\n",
      " 155.7364324   90.21913262  81.14515344  82.77044039 124.33122771\n",
      "  93.23970977 146.75485361 239.98648695  76.67901739 134.14756304\n",
      " 133.95934227 189.84731822 123.05813392 131.86932079 127.63474971\n",
      " 230.40577408 127.80987661 130.04675015 182.20072764  89.22139976\n",
      " 141.55242472 193.25058843  68.9739377  289.32064345  78.81364295\n",
      "  78.97074266 176.08016614 102.10324957 121.26834    159.76495037\n",
      "  81.6911215  117.28694205 106.37765825  81.4103619   80.27588059\n",
      " 158.0624623  159.37185101 140.72378184 254.69931551]\n"
     ]
    }
   ],
   "source": [
    "# Your code here:\n",
    "y_pred = model.predict(diabetes_data_test)\n",
    "print('predicted response:', y_pred, sep='\\n')"
   ]
  },
  {
   "cell_type": "markdown",
   "metadata": {},
   "source": [
    "#### Print your `diabetes_target_test` and compare with the prediction. "
   ]
  },
  {
   "cell_type": "code",
   "execution_count": 16,
   "metadata": {},
   "outputs": [
    {
     "data": {
      "text/plain": [
       "array([230., 336., 283., 104., 125., 134.,  55., 142., 206.,  83., 185.,\n",
       "       317.,  47., 283., 185.,  69.,  52.,  92., 272., 102.,  81., 268.,\n",
       "       173., 191., 101., 179., 134., 272., 183., 111., 208., 111., 258.,\n",
       "       275., 187., 108., 281., 144., 237., 235., 235., 270.,  99.,  59.,\n",
       "       248., 115., 141., 216.,  61., 252., 152.,  88., 222., 142., 276.,\n",
       "       168., 346., 277., 101., 232., 182.,  87., 265., 341., 104.,  61.,\n",
       "       263., 215., 202., 128., 102., 150.,  71.,  85.,  60.,  94.,  25.,\n",
       "        68., 152.,  72., 103., 242.,  71., 107., 214., 249.,  43., 252.,\n",
       "       156., 253., 233.,  84., 129., 182., 242.,  88.,  39., 122.,  55.,\n",
       "       145., 241., 142.,  83., 292., 306.,  48.,  39., 127., 209., 219.,\n",
       "       237., 212., 268.,  91., 279., 168., 139., 164., 144.,  52., 178.,\n",
       "        55., 181., 292., 280., 192., 232.,  86.,  75., 178., 190., 265.,\n",
       "       109., 141.,  70.,  98., 200.,  71., 123.,  49., 245., 124.,  89.,\n",
       "        72.,  79.,  42.,  94., 262., 141.,  64.,  53., 127.,  72., 100.,\n",
       "       321., 202., 196., 217., 221., 121., 200.,  84.,  96.,  59.,  65.,\n",
       "       113., 168., 264.,  77.,  90., 103.,  78., 150.,  74., 132., 259.,\n",
       "       148., 202., 175., 114.,  50., 191.,  85., 258.,  87., 138.,  52.,\n",
       "        97.,  64., 110.,  53., 139., 118.,  60.,  96., 113., 143., 219.,\n",
       "       132.])"
      ]
     },
     "execution_count": 16,
     "metadata": {},
     "output_type": "execute_result"
    }
   ],
   "source": [
    "# Your code here:\n",
    "diabetes_target_test"
   ]
  },
  {
   "cell_type": "markdown",
   "metadata": {},
   "source": [
    "#### Is `diabetes_target_test` exactly the same as the model prediction? Explain."
   ]
  },
  {
   "cell_type": "code",
   "execution_count": 17,
   "metadata": {},
   "outputs": [],
   "source": [
    "# Your explanation here:\n"
   ]
  },
  {
   "cell_type": "markdown",
   "metadata": {},
   "source": [
    "# Bonus Challenge 1 - Hypothesis Testing with `statsmodels`\n",
    "\n",
    "After generating the linear regression model from the dataset, you probably wonder: then what? What is the statistical way to know if my model is reliable or not?\n",
    "\n",
    "Good question. We'll discuss that using Scikit-Learn in Challenge 5. But for now, let's use a fool-proof way by using the ([Linear Regression class of StatsModels](https://www.statsmodels.org/dev/regression.html)) which can also conduct linear regression analysis plus much more such as calcuating the F-score of the linear model as well as the standard errors and t-scores for each coefficient. The F-score and t-scores will tell you whether you can trust your linear model.\n",
    "\n",
    "To understand the statistical meaning of conducting hypothesis testing (e.g. F-test, t-test) for slopes, read [this webpage](https://onlinecourses.science.psu.edu/stat501/node/297/) at your leisure time. We'll give you a brief overview next.\n",
    "\n",
    "* The F-test of your linear model is to verify whether at least one of your coefficients is significantly different from zero. Translating that into the *null hypothesis* and *alternative hypothesis*, that is:\n",
    "\n",
    "    ```\n",
    "    H0 : β1 = β2 = ... = β10 = 0\n",
    "    HA : At least one βj ≠ 0 (for j = 1, 2, ..., 10)\n",
    "    ```\n",
    "\n",
    "* The t-tests on each coefficient is to check whether the confidence interval for the variable contains zero. If the confidence interval contains zero, it means the null hypothesis for that variable is not rejected. In other words, this particular vaiable is not contributing to your linear model and you can remove it from your formula.\n",
    "\n",
    "Read the documentations of [StatsModels Linear Regression](https://www.statsmodels.org/dev/regression.html) as well as its [`OLS` class](https://www.statsmodels.org/dev/generated/statsmodels.regression.linear_model.OLS.html) which stands for *ordinary least squares*.\n",
    "\n",
    "#### In the next cell, analyze `diabetes_data_train` and `diabetes_target_train` with the linear regression model of `statsmodels`. Print the fit summary.\n",
    "\n",
    "Your output should look like:\n",
    "\n",
    "![statsmodels regression](../statsmodels.png)"
   ]
  },
  {
   "cell_type": "code",
   "execution_count": 18,
   "metadata": {},
   "outputs": [],
   "source": [
    "# Your code here:\n"
   ]
  },
  {
   "cell_type": "markdown",
   "metadata": {},
   "source": [
    "#### Interpreting hypothesis testing results\n",
    "\n",
    "Answer the following questions in the cell below:\n",
    "\n",
    "1. What is the F-score of your linear model and is the null hypothesis rejected?\n",
    "\n",
    "1. Does any of the t-tests of the coefficients produce a confidence interval containing zero? What are they?\n",
    "\n",
    "1. How will you modify your linear reguression model according to the test results above?"
   ]
  },
  {
   "cell_type": "code",
   "execution_count": 19,
   "metadata": {},
   "outputs": [],
   "source": [
    "# Your answers here:"
   ]
  },
  {
   "cell_type": "markdown",
   "metadata": {},
   "source": [
    "# Challenge 3 - Peform Supervised Learning on a Pandas Dataframe"
   ]
  },
  {
   "cell_type": "markdown",
   "metadata": {},
   "source": [
    "Now that we have dealt with data that has been formatted for scikit-learn, let's look at data that we will need to format ourselves.\n",
    "\n",
    "In the next cell, load the `auto-mpg.csv` file included in this folder and assign it to a variable called `auto`."
   ]
  },
  {
   "cell_type": "code",
   "execution_count": 20,
   "metadata": {},
   "outputs": [],
   "source": [
    "# Your code here:\n",
    "auto = pd.read_csv('auto-mpg.csv')"
   ]
  },
  {
   "cell_type": "markdown",
   "metadata": {},
   "source": [
    "Look at the first 5 rows using the `head()` function:"
   ]
  },
  {
   "cell_type": "code",
   "execution_count": 21,
   "metadata": {},
   "outputs": [
    {
     "data": {
      "text/html": [
       "<div>\n",
       "<style scoped>\n",
       "    .dataframe tbody tr th:only-of-type {\n",
       "        vertical-align: middle;\n",
       "    }\n",
       "\n",
       "    .dataframe tbody tr th {\n",
       "        vertical-align: top;\n",
       "    }\n",
       "\n",
       "    .dataframe thead th {\n",
       "        text-align: right;\n",
       "    }\n",
       "</style>\n",
       "<table border=\"1\" class=\"dataframe\">\n",
       "  <thead>\n",
       "    <tr style=\"text-align: right;\">\n",
       "      <th></th>\n",
       "      <th>mpg</th>\n",
       "      <th>cylinders</th>\n",
       "      <th>displacement</th>\n",
       "      <th>horse_power</th>\n",
       "      <th>weight</th>\n",
       "      <th>acceleration</th>\n",
       "      <th>model_year</th>\n",
       "      <th>car_name</th>\n",
       "    </tr>\n",
       "  </thead>\n",
       "  <tbody>\n",
       "    <tr>\n",
       "      <td>0</td>\n",
       "      <td>18.0</td>\n",
       "      <td>8</td>\n",
       "      <td>307.0</td>\n",
       "      <td>130.0</td>\n",
       "      <td>3504</td>\n",
       "      <td>12.0</td>\n",
       "      <td>70</td>\n",
       "      <td>\\t\"chevrolet chevelle malibu\"</td>\n",
       "    </tr>\n",
       "    <tr>\n",
       "      <td>1</td>\n",
       "      <td>15.0</td>\n",
       "      <td>8</td>\n",
       "      <td>350.0</td>\n",
       "      <td>165.0</td>\n",
       "      <td>3693</td>\n",
       "      <td>11.5</td>\n",
       "      <td>70</td>\n",
       "      <td>\\t\"buick skylark 320\"</td>\n",
       "    </tr>\n",
       "    <tr>\n",
       "      <td>2</td>\n",
       "      <td>18.0</td>\n",
       "      <td>8</td>\n",
       "      <td>318.0</td>\n",
       "      <td>150.0</td>\n",
       "      <td>3436</td>\n",
       "      <td>11.0</td>\n",
       "      <td>70</td>\n",
       "      <td>\\t\"plymouth satellite\"</td>\n",
       "    </tr>\n",
       "    <tr>\n",
       "      <td>3</td>\n",
       "      <td>16.0</td>\n",
       "      <td>8</td>\n",
       "      <td>304.0</td>\n",
       "      <td>150.0</td>\n",
       "      <td>3433</td>\n",
       "      <td>12.0</td>\n",
       "      <td>70</td>\n",
       "      <td>\\t\"amc rebel sst\"</td>\n",
       "    </tr>\n",
       "    <tr>\n",
       "      <td>4</td>\n",
       "      <td>17.0</td>\n",
       "      <td>8</td>\n",
       "      <td>302.0</td>\n",
       "      <td>140.0</td>\n",
       "      <td>3449</td>\n",
       "      <td>10.5</td>\n",
       "      <td>70</td>\n",
       "      <td>\\t\"ford torino\"</td>\n",
       "    </tr>\n",
       "  </tbody>\n",
       "</table>\n",
       "</div>"
      ],
      "text/plain": [
       "    mpg  cylinders  displacement  horse_power  weight  acceleration  \\\n",
       "0  18.0          8         307.0        130.0    3504          12.0   \n",
       "1  15.0          8         350.0        165.0    3693          11.5   \n",
       "2  18.0          8         318.0        150.0    3436          11.0   \n",
       "3  16.0          8         304.0        150.0    3433          12.0   \n",
       "4  17.0          8         302.0        140.0    3449          10.5   \n",
       "\n",
       "   model_year                       car_name  \n",
       "0          70  \\t\"chevrolet chevelle malibu\"  \n",
       "1          70          \\t\"buick skylark 320\"  \n",
       "2          70         \\t\"plymouth satellite\"  \n",
       "3          70              \\t\"amc rebel sst\"  \n",
       "4          70                \\t\"ford torino\"  "
      ]
     },
     "execution_count": 21,
     "metadata": {},
     "output_type": "execute_result"
    }
   ],
   "source": [
    "# Your code here:\n",
    "auto.head()"
   ]
  },
  {
   "cell_type": "markdown",
   "metadata": {},
   "source": [
    "Evaluate the data to ensure that all numeric columns are correctly detected as such by pandas. If a column is misclassified as object, coerce it to numeric."
   ]
  },
  {
   "cell_type": "code",
   "execution_count": 22,
   "metadata": {},
   "outputs": [
    {
     "data": {
      "text/plain": [
       "mpg             float64\n",
       "cylinders         int64\n",
       "displacement    float64\n",
       "horse_power     float64\n",
       "weight            int64\n",
       "acceleration    float64\n",
       "model_year        int64\n",
       "car_name         object\n",
       "dtype: object"
      ]
     },
     "execution_count": 22,
     "metadata": {},
     "output_type": "execute_result"
    }
   ],
   "source": [
    "# Your code here:\n",
    "auto.dtypes"
   ]
  },
  {
   "cell_type": "code",
   "execution_count": 23,
   "metadata": {},
   "outputs": [
    {
     "data": {
      "text/plain": [
       "array(['\\t\"chevrolet chevelle malibu\"', '\\t\"buick skylark 320\"',\n",
       "       '\\t\"plymouth satellite\"', '\\t\"amc rebel sst\"', '\\t\"ford torino\"',\n",
       "       '\\t\"ford galaxie 500\"', '\\t\"chevrolet impala\"',\n",
       "       '\\t\"plymouth fury iii\"', '\\t\"pontiac catalina\"',\n",
       "       '\\t\"amc ambassador dpl\"', '\\t\"dodge challenger se\"',\n",
       "       '\\t\"plymouth \\'cuda 340\"', '\\t\"chevrolet monte carlo\"',\n",
       "       '\\t\"buick estate wagon (sw)\"', '\\t\"toyota corona mark ii\"',\n",
       "       '\\t\"plymouth duster\"', '\\t\"amc hornet\"', '\\t\"ford maverick\"',\n",
       "       '\\t\"datsun pl510\"', '\\t\"volkswagen 1131 deluxe sedan\"',\n",
       "       '\\t\"peugeot 504\"', '\\t\"audi 100 ls\"', '\\t\"saab 99e\"',\n",
       "       '\\t\"bmw 2002\"', '\\t\"amc gremlin\"', '\\t\"ford f250\"',\n",
       "       '\\t\"chevy c20\"', '\\t\"dodge d200\"', '\\t\"hi 1200d\"',\n",
       "       '\\t\"chevrolet vega 2300\"', '\\t\"toyota corona\"', '\\t\"ford pinto\"',\n",
       "       '\\t\"plymouth satellite custom\"', '\\t\"ford torino 500\"',\n",
       "       '\\t\"amc matador\"', '\\t\"pontiac catalina brougham\"',\n",
       "       '\\t\"dodge monaco (sw)\"', '\\t\"ford country squire (sw)\"',\n",
       "       '\\t\"pontiac safari (sw)\"', '\\t\"amc hornet sportabout (sw)\"',\n",
       "       '\\t\"chevrolet vega (sw)\"', '\\t\"pontiac firebird\"',\n",
       "       '\\t\"ford mustang\"', '\\t\"mercury capri 2000\"', '\\t\"opel 1900\"',\n",
       "       '\\t\"peugeot 304\"', '\\t\"fiat 124b\"', '\\t\"toyota corolla 1200\"',\n",
       "       '\\t\"datsun 1200\"', '\\t\"volkswagen model 111\"',\n",
       "       '\\t\"plymouth cricket\"', '\\t\"toyota corona hardtop\"',\n",
       "       '\\t\"dodge colt hardtop\"', '\\t\"volkswagen type 3\"',\n",
       "       '\\t\"chevrolet vega\"', '\\t\"ford pinto runabout\"',\n",
       "       '\\t\"amc ambassador sst\"', '\\t\"mercury marquis\"',\n",
       "       '\\t\"buick lesabre custom\"', '\\t\"oldsmobile delta 88 royale\"',\n",
       "       '\\t\"chrysler newport royal\"', '\\t\"mazda rx2 coupe\"',\n",
       "       '\\t\"amc matador (sw)\"', '\\t\"chevrolet chevelle concours (sw)\"',\n",
       "       '\\t\"ford gran torino (sw)\"', '\\t\"plymouth satellite custom (sw)\"',\n",
       "       '\\t\"volvo 145e (sw)\"', '\\t\"volkswagen 411 (sw)\"',\n",
       "       '\\t\"peugeot 504 (sw)\"', '\\t\"renault 12 (sw)\"',\n",
       "       '\\t\"ford pinto (sw)\"', '\\t\"datsun 510 (sw)\"',\n",
       "       '\\t\"toyouta corona mark ii (sw)\"', '\\t\"dodge colt (sw)\"',\n",
       "       '\\t\"toyota corolla 1600 (sw)\"', '\\t\"buick century 350\"',\n",
       "       '\\t\"chevrolet malibu\"', '\\t\"ford gran torino\"',\n",
       "       '\\t\"dodge coronet custom\"', '\\t\"mercury marquis brougham\"',\n",
       "       '\\t\"chevrolet caprice classic\"', '\\t\"ford ltd\"',\n",
       "       '\\t\"plymouth fury gran sedan\"', '\\t\"chrysler new yorker brougham\"',\n",
       "       '\\t\"buick electra 225 custom\"', '\\t\"amc ambassador brougham\"',\n",
       "       '\\t\"plymouth valiant\"', '\\t\"chevrolet nova custom\"',\n",
       "       '\\t\"volkswagen super beetle\"', '\\t\"ford country\"',\n",
       "       '\\t\"plymouth custom suburb\"', '\\t\"oldsmobile vista cruiser\"',\n",
       "       '\\t\"toyota carina\"', '\\t\"datsun 610\"', '\\t\"maxda rx3\"',\n",
       "       '\\t\"mercury capri v6\"', '\\t\"fiat 124 sport coupe\"',\n",
       "       '\\t\"chevrolet monte carlo s\"', '\\t\"pontiac grand prix\"',\n",
       "       '\\t\"fiat 128\"', '\\t\"opel manta\"', '\\t\"audi 100ls\"',\n",
       "       '\\t\"volvo 144ea\"', '\\t\"dodge dart custom\"', '\\t\"saab 99le\"',\n",
       "       '\\t\"toyota mark ii\"', '\\t\"oldsmobile omega\"', '\\t\"chevrolet nova\"',\n",
       "       '\\t\"datsun b210\"', '\\t\"chevrolet chevelle malibu classic\"',\n",
       "       '\\t\"plymouth satellite sebring\"', '\\t\"buick century luxus (sw)\"',\n",
       "       '\\t\"dodge coronet custom (sw)\"', '\\t\"audi fox\"',\n",
       "       '\\t\"volkswagen dasher\"', '\\t\"datsun 710\"', '\\t\"dodge colt\"',\n",
       "       '\\t\"fiat 124 tc\"', '\\t\"honda civic\"', '\\t\"subaru\"',\n",
       "       '\\t\"fiat x1.9\"', '\\t\"plymouth valiant custom\"',\n",
       "       '\\t\"mercury monarch\"', '\\t\"chevrolet bel air\"',\n",
       "       '\\t\"plymouth grand fury\"', '\\t\"buick century\"',\n",
       "       '\\t\"chevroelt chevelle malibu\"', '\\t\"plymouth fury\"',\n",
       "       '\\t\"buick skyhawk\"', '\\t\"chevrolet monza 2+2\"',\n",
       "       '\\t\"ford mustang ii\"', '\\t\"toyota corolla\"', '\\t\"pontiac astro\"',\n",
       "       '\\t\"volkswagen rabbit\"', '\\t\"amc pacer\"', '\\t\"volvo 244dl\"',\n",
       "       '\\t\"honda civic cvcc\"', '\\t\"fiat 131\"', '\\t\"capri ii\"',\n",
       "       '\\t\"renault 12tl\"', '\\t\"dodge coronet brougham\"',\n",
       "       '\\t\"chevrolet chevette\"', '\\t\"chevrolet woody\"', '\\t\"vw rabbit\"',\n",
       "       '\\t\"dodge aspen se\"', '\\t\"ford granada ghia\"',\n",
       "       '\\t\"pontiac ventura sj\"', '\\t\"amc pacer d/l\"', '\\t\"datsun b-210\"',\n",
       "       '\\t\"volvo 245\"', '\\t\"plymouth volare premier v8\"',\n",
       "       '\\t\"mercedes-benz 280s\"', '\\t\"cadillac seville\"', '\\t\"chevy c10\"',\n",
       "       '\\t\"ford f108\"', '\\t\"dodge d100\"', '\\t\"honda accord cvcc\"',\n",
       "       '\\t\"buick opel isuzu deluxe\"', '\\t\"renault 5 gtl\"',\n",
       "       '\\t\"plymouth arrow gs\"', '\\t\"datsun f-10 hatchback\"',\n",
       "       '\\t\"oldsmobile cutlass supreme\"', '\\t\"dodge monaco brougham\"',\n",
       "       '\\t\"mercury cougar brougham\"', '\\t\"chevrolet concours\"',\n",
       "       '\\t\"buick skylark\"', '\\t\"plymouth volare custom\"',\n",
       "       '\\t\"ford granada\"', '\\t\"pontiac grand prix lj\"',\n",
       "       '\\t\"chevrolet monte carlo landau\"', '\\t\"chrysler cordoba\"',\n",
       "       '\\t\"ford thunderbird\"', '\\t\"volkswagen rabbit custom\"',\n",
       "       '\\t\"pontiac sunbird coupe\"', '\\t\"toyota corolla liftback\"',\n",
       "       '\\t\"ford mustang ii 2+2\"', '\\t\"dodge colt m/m\"', '\\t\"subaru dl\"',\n",
       "       '\\t\"datsun 810\"', '\\t\"bmw 320i\"', '\\t\"mazda rx-4\"',\n",
       "       '\\t\"volkswagen rabbit custom diesel\"', '\\t\"ford fiesta\"',\n",
       "       '\\t\"mazda glc deluxe\"', '\\t\"datsun b210 gx\"',\n",
       "       '\\t\"oldsmobile cutlass salon brougham\"', '\\t\"dodge diplomat\"',\n",
       "       '\\t\"mercury monarch ghia\"', '\\t\"pontiac phoenix lj\"',\n",
       "       '\\t\"ford fairmont (auto)\"', '\\t\"ford fairmont (man)\"',\n",
       "       '\\t\"plymouth volare\"', '\\t\"amc concord\"',\n",
       "       '\\t\"buick century special\"', '\\t\"mercury zephyr\"',\n",
       "       '\\t\"dodge aspen\"', '\\t\"amc concord d/l\"',\n",
       "       '\\t\"buick regal sport coupe (turbo)\"', '\\t\"ford futura\"',\n",
       "       '\\t\"dodge magnum xe\"', '\\t\"datsun 510\"', '\\t\"dodge omni\"',\n",
       "       '\\t\"toyota celica gt liftback\"', '\\t\"plymouth sapporo\"',\n",
       "       '\\t\"oldsmobile starfire sx\"', '\\t\"datsun 200-sx\"', '\\t\"audi 5000\"',\n",
       "       '\\t\"volvo 264gl\"', '\\t\"saab 99gle\"', '\\t\"peugeot 604sl\"',\n",
       "       '\\t\"volkswagen scirocco\"', '\\t\"honda accord lx\"',\n",
       "       '\\t\"pontiac lemans v6\"', '\\t\"mercury zephyr 6\"',\n",
       "       '\\t\"ford fairmont 4\"', '\\t\"amc concord dl 6\"', '\\t\"dodge aspen 6\"',\n",
       "       '\\t\"ford ltd landau\"', '\\t\"mercury grand marquis\"',\n",
       "       '\\t\"dodge st. regis\"', '\\t\"chevrolet malibu classic (sw)\"',\n",
       "       '\\t\"chrysler lebaron town @ country (sw)\"', '\\t\"vw rabbit custom\"',\n",
       "       '\\t\"maxda glc deluxe\"', '\\t\"dodge colt hatchback custom\"',\n",
       "       '\\t\"amc spirit dl\"', '\\t\"mercedes benz 300d\"',\n",
       "       '\\t\"cadillac eldorado\"', '\\t\"plymouth horizon\"',\n",
       "       '\\t\"plymouth horizon tc3\"', '\\t\"datsun 210\"',\n",
       "       '\\t\"fiat strada custom\"', '\\t\"buick skylark limited\"',\n",
       "       '\\t\"chevrolet citation\"', '\\t\"oldsmobile omega brougham\"',\n",
       "       '\\t\"pontiac phoenix\"', '\\t\"toyota corolla tercel\"',\n",
       "       '\\t\"datsun 310\"', '\\t\"ford fairmont\"', '\\t\"audi 4000\"',\n",
       "       '\\t\"toyota corona liftback\"', '\\t\"mazda 626\"',\n",
       "       '\\t\"datsun 510 hatchback\"', '\\t\"mazda glc\"',\n",
       "       '\\t\"vw rabbit c (diesel)\"', '\\t\"vw dasher (diesel)\"',\n",
       "       '\\t\"audi 5000s (diesel)\"', '\\t\"mercedes-benz 240d\"',\n",
       "       '\\t\"honda civic 1500 gl\"', '\\t\"renault lecar deluxe\"',\n",
       "       '\\t\"vokswagen rabbit\"', '\\t\"datsun 280-zx\"', '\\t\"mazda rx-7 gs\"',\n",
       "       '\\t\"triumph tr7 coupe\"', '\\t\"ford mustang cobra\"',\n",
       "       '\\t\"honda accord\"', '\\t\"plymouth reliant\"',\n",
       "       '\\t\"dodge aries wagon (sw)\"', '\\t\"toyota starlet\"',\n",
       "       '\\t\"plymouth champ\"', '\\t\"honda civic 1300\"', '\\t\"datsun 210 mpg\"',\n",
       "       '\\t\"toyota tercel\"', '\\t\"mazda glc 4\"', '\\t\"plymouth horizon 4\"',\n",
       "       '\\t\"ford escort 4w\"', '\\t\"ford escort 2h\"', '\\t\"volkswagen jetta\"',\n",
       "       '\\t\"renault 18i\"', '\\t\"honda prelude\"', '\\t\"datsun 200sx\"',\n",
       "       '\\t\"peugeot 505s turbo diesel\"', '\\t\"volvo diesel\"',\n",
       "       '\\t\"toyota cressida\"', '\\t\"datsun 810 maxima\"',\n",
       "       '\\t\"oldsmobile cutlass ls\"', '\\t\"ford granada gl\"',\n",
       "       '\\t\"chrysler lebaron salon\"', '\\t\"chevrolet cavalier\"',\n",
       "       '\\t\"chevrolet cavalier wagon\"', '\\t\"chevrolet cavalier 2-door\"',\n",
       "       '\\t\"pontiac j2000 se hatchback\"', '\\t\"dodge aries se\"',\n",
       "       '\\t\"ford fairmont futura\"', '\\t\"amc concord dl\"',\n",
       "       '\\t\"volkswagen rabbit l\"', '\\t\"mazda glc custom l\"',\n",
       "       '\\t\"mazda glc custom\"', '\\t\"plymouth horizon miser\"',\n",
       "       '\\t\"mercury lynx l\"', '\\t\"nissan stanza xe\"',\n",
       "       '\\t\"honda civic (auto)\"', '\\t\"datsun 310 gx\"',\n",
       "       '\\t\"buick century limited\"',\n",
       "       '\\t\"oldsmobile cutlass ciera (diesel)\"',\n",
       "       '\\t\"chrysler lebaron medallion\"', '\\t\"ford granada l\"',\n",
       "       '\\t\"toyota celica gt\"', '\\t\"dodge charger 2.2\"',\n",
       "       '\\t\"chevrolet camaro\"', '\\t\"ford mustang gl\"', '\\t\"vw pickup\"',\n",
       "       '\\t\"dodge rampage\"', '\\t\"ford ranger\"', '\\t\"chevy s-10\"'],\n",
       "      dtype=object)"
      ]
     },
     "execution_count": 23,
     "metadata": {},
     "output_type": "execute_result"
    }
   ],
   "source": [
    "auto.car_name.unique()"
   ]
  },
  {
   "cell_type": "markdown",
   "metadata": {},
   "source": [
    "What is the newest model year and the oldest model year?"
   ]
  },
  {
   "cell_type": "code",
   "execution_count": 24,
   "metadata": {},
   "outputs": [
    {
     "name": "stdout",
     "output_type": "stream",
     "text": [
      "70\n",
      "82\n"
     ]
    }
   ],
   "source": [
    "# Your code here:\n",
    "print(auto['model_year'].min())\n",
    "print(auto['model_year'].max())"
   ]
  },
  {
   "cell_type": "markdown",
   "metadata": {},
   "source": [
    "Check the dataset for missing values and remove all rows containing at least one missing value."
   ]
  },
  {
   "cell_type": "code",
   "execution_count": 25,
   "metadata": {},
   "outputs": [
    {
     "data": {
      "text/plain": [
       "mpg             0\n",
       "cylinders       0\n",
       "displacement    0\n",
       "horse_power     6\n",
       "weight          0\n",
       "acceleration    0\n",
       "model_year      0\n",
       "car_name        0\n",
       "dtype: int64"
      ]
     },
     "execution_count": 25,
     "metadata": {},
     "output_type": "execute_result"
    }
   ],
   "source": [
    "# Your code here:\n",
    "auto.isna().sum()"
   ]
  },
  {
   "cell_type": "code",
   "execution_count": 26,
   "metadata": {},
   "outputs": [],
   "source": [
    "auto.dropna(inplace=True)"
   ]
  },
  {
   "cell_type": "code",
   "execution_count": 27,
   "metadata": {},
   "outputs": [
    {
     "data": {
      "text/plain": [
       "mpg             0\n",
       "cylinders       0\n",
       "displacement    0\n",
       "horse_power     0\n",
       "weight          0\n",
       "acceleration    0\n",
       "model_year      0\n",
       "car_name        0\n",
       "dtype: int64"
      ]
     },
     "execution_count": 27,
     "metadata": {},
     "output_type": "execute_result"
    }
   ],
   "source": [
    "auto.isna().sum()"
   ]
  },
  {
   "cell_type": "markdown",
   "metadata": {},
   "source": [
    "Find the frequency table for the `cylinders` column using the `value_counts()` function. How many possible values of cylinders are there?"
   ]
  },
  {
   "cell_type": "code",
   "execution_count": 28,
   "metadata": {},
   "outputs": [
    {
     "data": {
      "text/plain": [
       "4    199\n",
       "8    103\n",
       "6     83\n",
       "3      4\n",
       "5      3\n",
       "Name: cylinders, dtype: int64"
      ]
     },
     "execution_count": 28,
     "metadata": {},
     "output_type": "execute_result"
    }
   ],
   "source": [
    "# Your code here:\n",
    "auto.cylinders.value_counts()"
   ]
  },
  {
   "cell_type": "markdown",
   "metadata": {},
   "source": [
    "We would like to generate a linear regression model that will predict mpg. To do this, first drop the `car_name` column since it does not contain any quantitative data. Next separate the dataframe to predictor and response variables. Separate those into test and training data with 80% of the data in the training set and the remainder in the test set. \n",
    "\n",
    "Assign the predictor and response training data to `X_train` and `y_train` respectively. Similarly, assign the predictor and response test data to `X_test` and `y_test`.\n",
    "\n",
    "*Hint: To separate data for training and test, use the `train_test_split` method we used in previous labs.*"
   ]
  },
  {
   "cell_type": "code",
   "execution_count": 38,
   "metadata": {},
   "outputs": [],
   "source": [
    "# Your code here:\n",
    "ch2 = auto.drop(auto.columns[7], axis=1)"
   ]
  },
  {
   "cell_type": "code",
   "execution_count": 39,
   "metadata": {},
   "outputs": [
    {
     "data": {
      "text/html": [
       "<div>\n",
       "<style scoped>\n",
       "    .dataframe tbody tr th:only-of-type {\n",
       "        vertical-align: middle;\n",
       "    }\n",
       "\n",
       "    .dataframe tbody tr th {\n",
       "        vertical-align: top;\n",
       "    }\n",
       "\n",
       "    .dataframe thead th {\n",
       "        text-align: right;\n",
       "    }\n",
       "</style>\n",
       "<table border=\"1\" class=\"dataframe\">\n",
       "  <thead>\n",
       "    <tr style=\"text-align: right;\">\n",
       "      <th></th>\n",
       "      <th>mpg</th>\n",
       "      <th>cylinders</th>\n",
       "      <th>displacement</th>\n",
       "      <th>horse_power</th>\n",
       "      <th>weight</th>\n",
       "      <th>acceleration</th>\n",
       "      <th>model_year</th>\n",
       "    </tr>\n",
       "  </thead>\n",
       "  <tbody>\n",
       "    <tr>\n",
       "      <td>0</td>\n",
       "      <td>18.0</td>\n",
       "      <td>8</td>\n",
       "      <td>307.0</td>\n",
       "      <td>130.0</td>\n",
       "      <td>3504</td>\n",
       "      <td>12.0</td>\n",
       "      <td>70</td>\n",
       "    </tr>\n",
       "    <tr>\n",
       "      <td>1</td>\n",
       "      <td>15.0</td>\n",
       "      <td>8</td>\n",
       "      <td>350.0</td>\n",
       "      <td>165.0</td>\n",
       "      <td>3693</td>\n",
       "      <td>11.5</td>\n",
       "      <td>70</td>\n",
       "    </tr>\n",
       "    <tr>\n",
       "      <td>2</td>\n",
       "      <td>18.0</td>\n",
       "      <td>8</td>\n",
       "      <td>318.0</td>\n",
       "      <td>150.0</td>\n",
       "      <td>3436</td>\n",
       "      <td>11.0</td>\n",
       "      <td>70</td>\n",
       "    </tr>\n",
       "    <tr>\n",
       "      <td>3</td>\n",
       "      <td>16.0</td>\n",
       "      <td>8</td>\n",
       "      <td>304.0</td>\n",
       "      <td>150.0</td>\n",
       "      <td>3433</td>\n",
       "      <td>12.0</td>\n",
       "      <td>70</td>\n",
       "    </tr>\n",
       "    <tr>\n",
       "      <td>4</td>\n",
       "      <td>17.0</td>\n",
       "      <td>8</td>\n",
       "      <td>302.0</td>\n",
       "      <td>140.0</td>\n",
       "      <td>3449</td>\n",
       "      <td>10.5</td>\n",
       "      <td>70</td>\n",
       "    </tr>\n",
       "    <tr>\n",
       "      <td>...</td>\n",
       "      <td>...</td>\n",
       "      <td>...</td>\n",
       "      <td>...</td>\n",
       "      <td>...</td>\n",
       "      <td>...</td>\n",
       "      <td>...</td>\n",
       "      <td>...</td>\n",
       "    </tr>\n",
       "    <tr>\n",
       "      <td>393</td>\n",
       "      <td>27.0</td>\n",
       "      <td>4</td>\n",
       "      <td>140.0</td>\n",
       "      <td>86.0</td>\n",
       "      <td>2790</td>\n",
       "      <td>15.6</td>\n",
       "      <td>82</td>\n",
       "    </tr>\n",
       "    <tr>\n",
       "      <td>394</td>\n",
       "      <td>44.0</td>\n",
       "      <td>4</td>\n",
       "      <td>97.0</td>\n",
       "      <td>52.0</td>\n",
       "      <td>2130</td>\n",
       "      <td>24.6</td>\n",
       "      <td>82</td>\n",
       "    </tr>\n",
       "    <tr>\n",
       "      <td>395</td>\n",
       "      <td>32.0</td>\n",
       "      <td>4</td>\n",
       "      <td>135.0</td>\n",
       "      <td>84.0</td>\n",
       "      <td>2295</td>\n",
       "      <td>11.6</td>\n",
       "      <td>82</td>\n",
       "    </tr>\n",
       "    <tr>\n",
       "      <td>396</td>\n",
       "      <td>28.0</td>\n",
       "      <td>4</td>\n",
       "      <td>120.0</td>\n",
       "      <td>79.0</td>\n",
       "      <td>2625</td>\n",
       "      <td>18.6</td>\n",
       "      <td>82</td>\n",
       "    </tr>\n",
       "    <tr>\n",
       "      <td>397</td>\n",
       "      <td>31.0</td>\n",
       "      <td>4</td>\n",
       "      <td>119.0</td>\n",
       "      <td>82.0</td>\n",
       "      <td>2720</td>\n",
       "      <td>19.4</td>\n",
       "      <td>82</td>\n",
       "    </tr>\n",
       "  </tbody>\n",
       "</table>\n",
       "<p>392 rows × 7 columns</p>\n",
       "</div>"
      ],
      "text/plain": [
       "      mpg  cylinders  displacement  horse_power  weight  acceleration  \\\n",
       "0    18.0          8         307.0        130.0    3504          12.0   \n",
       "1    15.0          8         350.0        165.0    3693          11.5   \n",
       "2    18.0          8         318.0        150.0    3436          11.0   \n",
       "3    16.0          8         304.0        150.0    3433          12.0   \n",
       "4    17.0          8         302.0        140.0    3449          10.5   \n",
       "..    ...        ...           ...          ...     ...           ...   \n",
       "393  27.0          4         140.0         86.0    2790          15.6   \n",
       "394  44.0          4          97.0         52.0    2130          24.6   \n",
       "395  32.0          4         135.0         84.0    2295          11.6   \n",
       "396  28.0          4         120.0         79.0    2625          18.6   \n",
       "397  31.0          4         119.0         82.0    2720          19.4   \n",
       "\n",
       "     model_year  \n",
       "0            70  \n",
       "1            70  \n",
       "2            70  \n",
       "3            70  \n",
       "4            70  \n",
       "..          ...  \n",
       "393          82  \n",
       "394          82  \n",
       "395          82  \n",
       "396          82  \n",
       "397          82  \n",
       "\n",
       "[392 rows x 7 columns]"
      ]
     },
     "execution_count": 39,
     "metadata": {},
     "output_type": "execute_result"
    }
   ],
   "source": [
    "ch2"
   ]
  },
  {
   "cell_type": "markdown",
   "metadata": {},
   "source": [
    "Now we will processed and peform linear regression on this data to predict the mpg for each vehicle. \n",
    "\n",
    "#### In the next cell, create an instance of the linear regression model and call it `auto_model`. Fit `auto_model` with your training data."
   ]
  },
  {
   "cell_type": "code",
   "execution_count": 53,
   "metadata": {},
   "outputs": [],
   "source": [
    "y = ch2['mpg']"
   ]
  },
  {
   "cell_type": "code",
   "execution_count": 54,
   "metadata": {},
   "outputs": [],
   "source": [
    "X = ch2.drop(['mpg'], axis = 1)"
   ]
  },
  {
   "cell_type": "code",
   "execution_count": 55,
   "metadata": {},
   "outputs": [],
   "source": [
    "X_train, X_test, y_train, y_test = train_test_split(X, y, test_size = 0.8, random_state=29)"
   ]
  },
  {
   "cell_type": "code",
   "execution_count": 57,
   "metadata": {},
   "outputs": [],
   "source": [
    "# Your code here:\n",
    "auto_model = LinearRegression().fit(X, y)"
   ]
  },
  {
   "cell_type": "markdown",
   "metadata": {},
   "source": [
    "# Challenge 4 - Evaluate the Model\n",
    "\n",
    "In addition to evaluating your model with F-test and t-test, you can also use the *Coefficient of Determination* (a.k.a. *r squared score*). This method does not simply tell *yes* or *no* about the model fit but instead indicates how much variation can be explained by the model. Based on the r squared score, you can decide whether to improve your model in order to obtain a better fit.\n",
    "\n",
    "You can learn about the r squared score [here](). Its formula is:\n",
    "\n",
    "![R Squared](../r-squared.png)\n",
    "\n",
    "...where:\n",
    "\n",
    "* yi is an actual data point.\n",
    "* ŷi is the corresponding data point on the estimated regression line.\n",
    "\n",
    "By adding the squares of the difference between all yi-ŷi pairs, we have a measure called SSE (*error sum of squares*) which is an application of the r squared score to indicate the extent to which the estimated regression model is different from the actual data. And we attribute that difference to the random error that is unavoidable in the real world. Obviously, we want the SSE value to be as small as possible.\n",
    "\n",
    "#### In the next cell, compute the predicted *y* based on `X_train` and call it `y_pred`. Then calcualte the r squared score between `y_pred` and `y_train` which indicates how well the estimated regression model fits the training data.\n",
    "\n",
    "*Hint: r squared score can be calculated using `sklearn.metrics.r2_score` ([documentation](https://scikit-learn.org/stable/modules/generated/sklearn.metrics.r2_score.html)).*"
   ]
  },
  {
   "cell_type": "code",
   "execution_count": 64,
   "metadata": {},
   "outputs": [
    {
     "data": {
      "text/plain": [
       "0.7854723462970037"
      ]
     },
     "execution_count": 64,
     "metadata": {},
     "output_type": "execute_result"
    }
   ],
   "source": [
    "# Your code here:\n",
    "y_pred = auto_model.predict(X_train)\n",
    "r2_score(y_train, y_pred)"
   ]
  },
  {
   "cell_type": "markdown",
   "metadata": {},
   "source": [
    "#### Our next step is to evaluate the model using the test data. \n",
    "\n",
    "We would like to ensure that our model is not overfitting the data. This means that our model was made to fit too closely to the training data by being overly complex. If a model is overfitted, it is not generalizable to data outside the training data. In that case, we need to reduce the complexity of the model by removing certain features (variables).\n",
    "\n",
    "In the cell below, use the model to generate the predicted values for the test data and assign them to `y_test_pred`. Compute the r squared score of the predicted `y_test_pred` and the oberserved `y_test` data."
   ]
  },
  {
   "cell_type": "code",
   "execution_count": 66,
   "metadata": {},
   "outputs": [
    {
     "data": {
      "text/plain": [
       "0.8127103931880761"
      ]
     },
     "execution_count": 66,
     "metadata": {},
     "output_type": "execute_result"
    }
   ],
   "source": [
    "# Your code here:\n",
    "y_test_pred = auto_model.predict(X_test)\n",
    "r2_score(y_test, y_test_pred)"
   ]
  },
  {
   "cell_type": "markdown",
   "metadata": {},
   "source": [
    "#### Explaining the results\n",
    "\n",
    "The r squared scores of the training data and the test data are pretty close (0.8146 vs 0.7818). This means our model is not overfitted. However, there is still room to improve the model fit. Move on to the next challenge."
   ]
  },
  {
   "cell_type": "markdown",
   "metadata": {},
   "source": [
    "# Challenge 5 - Improve the Model Fit\n",
    "\n",
    "While the most common way to improve the fit of a model is by using [regularization](https://datanice.github.io/machine-learning-101-what-is-regularization-interactive.html), there are other simpler ways to improve model fit. The first is to create a simpler model. The second is to increase the train sample size.\n",
    "\n",
    "Let us start with the easier option and increase our train sample size to 90% of the data. Create a new test train split and name the new predictors and response variables `X_train09`, `X_test09`, `y_train09`, `y_test09`."
   ]
  },
  {
   "cell_type": "code",
   "execution_count": 67,
   "metadata": {},
   "outputs": [],
   "source": [
    "# Your code here:\n",
    "X_train09, X_test09, y_train09, y_test09 = train_test_split(X, y, test_size = 0.9, random_state=29)"
   ]
  },
  {
   "cell_type": "markdown",
   "metadata": {},
   "source": [
    "Initialize a new linear regression model. Name this model `auto_model09`. Fit the model to the new sample (training) data."
   ]
  },
  {
   "cell_type": "code",
   "execution_count": 68,
   "metadata": {},
   "outputs": [],
   "source": [
    "# Your code here:\n",
    "auto_model09 = LinearRegression().fit(X, y)"
   ]
  },
  {
   "cell_type": "markdown",
   "metadata": {},
   "source": [
    "Compute the predicted values and r squared score for our new model and new sample data."
   ]
  },
  {
   "cell_type": "code",
   "execution_count": 70,
   "metadata": {},
   "outputs": [
    {
     "data": {
      "text/plain": [
       "0.7467551147484837"
      ]
     },
     "execution_count": 70,
     "metadata": {},
     "output_type": "execute_result"
    }
   ],
   "source": [
    "# Your code here:\n",
    "y_pred09 = auto_model.predict(X_train09)\n",
    "r2_score(y_train09, y_pred09)"
   ]
  },
  {
   "cell_type": "markdown",
   "metadata": {},
   "source": [
    "Compute the r squared score for the smaller test set. Is there an improvement in the test r squared?"
   ]
  },
  {
   "cell_type": "code",
   "execution_count": 71,
   "metadata": {},
   "outputs": [
    {
     "data": {
      "text/plain": [
       "0.8127103931880761"
      ]
     },
     "execution_count": 71,
     "metadata": {},
     "output_type": "execute_result"
    }
   ],
   "source": [
    "# Your code here:\n",
    "y_pred2 = auto_model.predict(X_test)\n",
    "r2_score(y_test, y_pred2)"
   ]
  },
  {
   "cell_type": "markdown",
   "metadata": {},
   "source": [
    "# Bonus Challenge 2 - Backward Elimination \n",
    "\n",
    "The main way to produce a simpler linear regression model is to reduce the number of variables used in the model. In scikit-learn, we can do this by using recursive feature elimination. You can read more about RFE [here](https://scikit-learn.org/stable/modules/generated/sklearn.feature_selection.RFE.html).\n",
    "\n",
    "In the next cell, we will import RFE"
   ]
  },
  {
   "cell_type": "code",
   "execution_count": null,
   "metadata": {},
   "outputs": [],
   "source": [
    "from sklearn.feature_selection import RFE"
   ]
  },
  {
   "cell_type": "markdown",
   "metadata": {},
   "source": [
    "Follow the documentation and initialize an RFE model using the `auto_model` linear regression model. Set `n_features_to_select=3`"
   ]
  },
  {
   "cell_type": "code",
   "execution_count": null,
   "metadata": {},
   "outputs": [],
   "source": [
    "# Your code here:\n"
   ]
  },
  {
   "cell_type": "markdown",
   "metadata": {},
   "source": [
    "Fit the model and print the ranking"
   ]
  },
  {
   "cell_type": "code",
   "execution_count": null,
   "metadata": {},
   "outputs": [],
   "source": [
    "# Your code here:\n"
   ]
  },
  {
   "cell_type": "markdown",
   "metadata": {},
   "source": [
    "Feature importance is ranked from most important (1) to least important (4). Generate a model with the three most important features. The features correspond to variable names. For example, feature 1 is `cylinders` and feature 2 is `displacement`.\n",
    "\n",
    "Perform a test-train split on this reduced column data and call the split data `X_train_reduced`, `X_test_reduced`, `y_test_reduced`, `y_train_reduced`. Use an 80% split."
   ]
  },
  {
   "cell_type": "code",
   "execution_count": null,
   "metadata": {},
   "outputs": [],
   "source": [
    "# Your code here:\n"
   ]
  },
  {
   "cell_type": "markdown",
   "metadata": {},
   "source": [
    "Generate a new model called `auto_model_reduced` and fit this model. Then proceed to compute the r squared score for the model. Did this cause an improvement in the r squared score?"
   ]
  },
  {
   "cell_type": "code",
   "execution_count": null,
   "metadata": {},
   "outputs": [],
   "source": [
    "# Your code here: \n"
   ]
  },
  {
   "cell_type": "markdown",
   "metadata": {},
   "source": [
    "#### Conclusion\n",
    "\n",
    "You may obtain the impression from this lab that without knowing statistical methods in depth, it is difficult to make major progress in machine learning. That is correct. If you are motivated to become a data scientist, statistics is the subject you must be proficient in and there is no shortcut. \n",
    "\n",
    "Completing these labs is not likely to make you a data scientist. But you will have a good sense about what are there in machine learning and what are good for you. In your future career, you can choose one of the three tracks:\n",
    "\n",
    "* Data scientists who need to be proficient in statistical methods.\n",
    "\n",
    "* Data engineers who need to be good at programming.\n",
    "\n",
    "* Data integration specialists who are business or content experts but also understand data and programming. This cross-disciplinary track brings together data, technology, and business and will be in high demands in the next decade."
   ]
  }
 ],
 "metadata": {
  "kernelspec": {
   "display_name": "Python 3",
   "language": "python",
   "name": "python3"
  },
  "language_info": {
   "codemirror_mode": {
    "name": "ipython",
    "version": 3
   },
   "file_extension": ".py",
   "mimetype": "text/x-python",
   "name": "python",
   "nbconvert_exporter": "python",
   "pygments_lexer": "ipython3",
   "version": "3.7.4"
  }
 },
 "nbformat": 4,
 "nbformat_minor": 2
}
